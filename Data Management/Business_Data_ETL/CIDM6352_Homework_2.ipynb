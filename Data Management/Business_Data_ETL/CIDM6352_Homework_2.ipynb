{
  "cells": [
    {
      "cell_type": "markdown",
      "metadata": {
        "id": "9aLy96WuuB1N"
      },
      "source": [
        "### Scenario: You are a data engineer for a large ice cream manufacturing company. Company stake holders want to know which ice cream flavors to diversity into. You need to gather and prepare some data on the favorite types of ice cream. You find some survey data on this topic. You will import the data, perform some cleaning tasks, and create a simple bar chart of the most popular ice cream flavors and the percentage of adults who like those flavors. ###\n",
        "Original data comes from https://fox8.com/news/the-21-most-popular-ice-cream-flavors-in-america/"
      ]
    },
    {
      "cell_type": "markdown",
      "metadata": {
        "id": "vYNljP3wu-0r"
      },
      "source": [
        "###Data Dictionary: ###  \n",
        "Both data files have the following fields/columns.\n",
        "\n",
        "Ice_Cream_Flavor : <str> The name of the ice cream.  \n",
        "Like_It_Percentage : <str> The percetage of adults surveyed who like that particular ice cream flavor.  \n",
        "Favorite_Percentage : <str> The percentage of adults surveyed who say that flavor is their favorite.  "
      ]
    },
    {
      "cell_type": "markdown",
      "metadata": {
        "id": "lJURtoBh4mQu"
      },
      "source": [
        "<h1  align=\"center\">CIDM6351: Homework 2 Instructions. Importing and Cleaning Data</h1>\n",
        "\n",
        "* Watch: Dr. Humpherys explains homework 2 video (5 mins) https://www.screencast.com/t/9tIllQJD8Hv  \n",
        "* **Save a copy to your Google Drive and answer the questions on your copy**\n",
        "* **Change the share to \"Anyone with link\" so the professor can view your code**\n",
        "* **Submit the share link of your Colab Notebook to WTClass**\n",
        "* This assignment is open notes/Internet/Datacamp but you can only consult with a CIS tutors or the professor.\n",
        "- Students should complete this assignment **individually.** If you need help, contact a CIS tutor or the professor.\n",
        "- Submit the URL to your Google Colab notebook to \\\\Wtclass\\cidm6351\\Week 6\\Turn in Homework 2\\"
      ]
    },
    {
      "cell_type": "code",
      "source": [],
      "metadata": {
        "id": "7x8ki4DbV0hr"
      },
      "execution_count": null,
      "outputs": []
    },
    {
      "cell_type": "code",
      "source": [],
      "metadata": {
        "id": "NJKUm3OPV0_I"
      },
      "execution_count": null,
      "outputs": []
    },
    {
      "cell_type": "markdown",
      "metadata": {
        "id": "oHX6cXOpqYxS"
      },
      "source": [
        "# Question 1 (30%): Importing data with Pandas"
      ]
    },
    {
      "cell_type": "code",
      "execution_count": 9,
      "metadata": {
        "id": "IRqyECpiq9kL"
      },
      "outputs": [],
      "source": [
        "# Run this cell\n",
        "# Dr. Humpherys provides you the URLs to the data files you need.\n",
        "ice_cream_part_one_url = 'https://raw.githubusercontent.com/sean-humpherys/randomfilestorage/main/ice_cream_part_one.csv'\n",
        "ice_cream_part_two_url = 'https://raw.githubusercontent.com/sean-humpherys/randomfilestorage/main/ice_cream_part_two.json'"
      ]
    },
    {
      "cell_type": "markdown",
      "metadata": {
        "id": "2zV5pjm-gpGy"
      },
      "source": [
        "### Q1.1 (5%) Import the pandas library as pd"
      ]
    },
    {
      "cell_type": "code",
      "execution_count": 10,
      "metadata": {
        "id": "sqmbHp_ZgkZK"
      },
      "outputs": [],
      "source": [
        "# --- put your answer below ---\n",
        "\n",
        "import pandas as pd\n",
        "\n"
      ]
    },
    {
      "cell_type": "markdown",
      "metadata": {
        "id": "eGikJ1sS8kt3"
      },
      "source": [
        "### Q1.2  (5%) Load the data stored in ```ice_cream_part_one.csv``` into Pandas DataFrames. No need to print the data yet."
      ]
    },
    {
      "cell_type": "code",
      "execution_count": null,
      "metadata": {
        "id": "CNunFdHOrRIY"
      },
      "outputs": [],
      "source": [
        "# --- put your answer below ---\n",
        "ice_cream_part_one_data = pd.read_csv(ice_cream_part_one_url)\n",
        "\n"
      ]
    },
    {
      "cell_type": "markdown",
      "metadata": {
        "id": "EJ6zZrlJhqvK"
      },
      "source": [
        "### Q1.3  (5%) Load the data stored in ```ice_cream_part_two.json``` into Pandas DataFrames. No need to print the data yet."
      ]
    },
    {
      "cell_type": "code",
      "execution_count": null,
      "metadata": {
        "id": "ZBFyykqyhzZS"
      },
      "outputs": [],
      "source": [
        "# --- put your answer below ---\n",
        "ice_cream_part_two_data = pd.read_json(ice_cream_part_two_url)"
      ]
    },
    {
      "cell_type": "markdown",
      "metadata": {
        "id": "BFj9lo7vsWXX"
      },
      "source": [
        "### 1.4  (5%) Print the information or head of both dataframes, respectively"
      ]
    },
    {
      "cell_type": "code",
      "execution_count": null,
      "metadata": {
        "colab": {
          "base_uri": "https://localhost:8080/"
        },
        "id": "jGyiHjPChUcp",
        "outputId": "6aa69494-b628-4c8f-e06a-387f92703c7a"
      },
      "outputs": [
        {
          "output_type": "stream",
          "name": "stdout",
          "text": [
            "  Ice_Cream_Flavor Like_It_Percentage Favorite_Percentage\n",
            "0            peach                22%                  1%\n",
            "1     butterscotch                16%                  1%\n",
            "2   chocolate chip                39%                  2%\n",
            "3        chocolate                51%                 10%\n",
            "4          vanilla                59%                 11%\n",
            "          Ice_Cream_Flavor Like_It_Percentage Favorite_Percentage\n",
            "0               strawberry                43%                  6%\n",
            "1  chocolate peanut butter                26%                  5%\n",
            "2             butter pecan                35%                  8%\n",
            "3        cookies and cream                43%                  7%\n",
            "4      mint chocolate chip                33%                  9%\n"
          ]
        }
      ],
      "source": [
        "# ---put your answer below--\n",
        "print(ice_cream_part_one_data.head())\n",
        "print(ice_cream_part_two_data.head())"
      ]
    },
    {
      "cell_type": "markdown",
      "metadata": {
        "id": "8mBPUYmluWje"
      },
      "source": [
        "### 1.5  (5%) Combine the two dataframes into one panda dataframe called \"ice_cream\". ###\n",
        "If you need a hint, search on Google \"combine two pandas dataframes\", \"join two pandas dataframes\", or \"concatenate pandas dataframe\". Searching with the correct phrase is a useful data engineering technique."
      ]
    },
    {
      "cell_type": "code",
      "execution_count": null,
      "metadata": {
        "id": "AsN8yKvWh_ga"
      },
      "outputs": [],
      "source": [
        "# ---put your answer below ---\n",
        "ice_cream = pd.concat([ice_cream_part_one_data, ice_cream_part_two_data], ignore_index=True)\n"
      ]
    },
    {
      "cell_type": "markdown",
      "metadata": {
        "id": "s__qzS_XkHi2"
      },
      "source": [
        "### 1.6  (5%) Print the contents of the ice_cream dataframe. ###"
      ]
    },
    {
      "cell_type": "code",
      "execution_count": null,
      "metadata": {
        "colab": {
          "base_uri": "https://localhost:8080/"
        },
        "id": "_-la7OV1kdA2",
        "outputId": "61c2958f-23df-4868-af94-c71cda6062e3"
      },
      "outputs": [
        {
          "output_type": "stream",
          "name": "stdout",
          "text": [
            "               Ice_Cream_Flavor Like_It_Percentage Favorite_Percentage\n",
            "0                         peach                22%                  1%\n",
            "1                  butterscotch                16%                  1%\n",
            "2                chocolate chip                39%                  2%\n",
            "3                     chocolate                51%                 10%\n",
            "4                       vanilla                59%                 11%\n",
            "5                        coffee                23%                  5%\n",
            "6                       caramel                33%                  3%\n",
            "7                 peanut butter                21%                  2%\n",
            "8                    neopolitan                30%                  2%\n",
            "9                        cherry                23%                  2%\n",
            "10  chocolate chip cookie dough                34%                  6%\n",
            "11                birthday cake                20%                  2%\n",
            "12                    raspberry                18%                  1%\n",
            "13                  cake batter                15%                  1%\n",
            "14                   rocky road                29%                  4%\n",
            "15                    pistachio                23%                  4%\n",
            "16                     jalapeno                NaN                    \n",
            "17                   strawberry                43%                  6%\n",
            "18      chocolate peanut butter                26%                  5%\n",
            "19                 butter pecan                35%                  8%\n",
            "20            cookies and cream                43%                  7%\n",
            "21          mint chocolate chip                33%                  9%\n"
          ]
        }
      ],
      "source": [
        "# ---put your answer below ---\n",
        "print(ice_cream)"
      ]
    },
    {
      "cell_type": "markdown",
      "metadata": {
        "id": "eMjvcheRmA8V"
      },
      "source": [
        "# Question Two. (50%) Clean the data in preparation for data analysis. #\n"
      ]
    },
    {
      "cell_type": "markdown",
      "metadata": {
        "id": "4sM3CCG7kjvF"
      },
      "source": [
        "### Q2.1 (10%) Remove missing data. Notice the row on Jalapeno ice cream does not have like it percentage or favorite percentage. Remove any row with missing data.###\n",
        "This was not taught yet in Datacamp. However, as a data engineer you will find yourself needing to learn how to do tasks not previously learned before. Consider searching Google for \"pandas remove missing values\" or \"pandas remove blank rows\"."
      ]
    },
    {
      "cell_type": "code",
      "execution_count": null,
      "metadata": {
        "colab": {
          "base_uri": "https://localhost:8080/"
        },
        "id": "ZRZ9CwSGk6RW",
        "outputId": "cf4af417-7f87-412a-a712-fdb42369973f"
      },
      "outputs": [
        {
          "output_type": "stream",
          "name": "stdout",
          "text": [
            "               Ice_Cream_Flavor Like_It_Percentage Favorite_Percentage\n",
            "0                         peach                22%                  1%\n",
            "1                  butterscotch                16%                  1%\n",
            "2                chocolate chip                39%                  2%\n",
            "3                     chocolate                51%                 10%\n",
            "4                       vanilla                59%                 11%\n",
            "5                        coffee                23%                  5%\n",
            "6                       caramel                33%                  3%\n",
            "7                 peanut butter                21%                  2%\n",
            "8                    neopolitan                30%                  2%\n",
            "9                        cherry                23%                  2%\n",
            "10  chocolate chip cookie dough                34%                  6%\n",
            "11                birthday cake                20%                  2%\n",
            "12                    raspberry                18%                  1%\n",
            "13                  cake batter                15%                  1%\n",
            "14                   rocky road                29%                  4%\n",
            "15                    pistachio                23%                  4%\n",
            "17                   strawberry                43%                  6%\n",
            "18      chocolate peanut butter                26%                  5%\n",
            "19                 butter pecan                35%                  8%\n",
            "20            cookies and cream                43%                  7%\n",
            "21          mint chocolate chip                33%                  9%\n"
          ]
        }
      ],
      "source": [
        "# --- put your answer below ---\n",
        "ice_cream_cleaned = ice_cream.dropna()\n",
        "print(ice_cream_cleaned)"
      ]
    },
    {
      "cell_type": "markdown",
      "metadata": {
        "id": "Icu2o2hBlB4d"
      },
      "source": [
        "### Q2.2 (10%) Capitalize all the ice cream flavor names. Each word should start with a capital letter, e.g. \"rocky road\" should become \"Rocky Road\". Print the contents of the Ice_Cream_Flavors column to show you were successful.###\n",
        "This was not taught in Datacamp. However, as a data engineer you will find yourself needing to learn how to do tasks not previously learned before. Consider searching Google for \"how to capitalize first letter in a word in pandas dataframe\" or \"capitalize first letter of each word in pandas\"."
      ]
    },
    {
      "cell_type": "code",
      "execution_count": null,
      "metadata": {
        "colab": {
          "base_uri": "https://localhost:8080/"
        },
        "id": "qa4Mwkk9l7j2",
        "outputId": "6891ca1b-e5dc-4ea4-ef35-8e976345b0cf"
      },
      "outputs": [
        {
          "output_type": "stream",
          "name": "stdout",
          "text": [
            "0                           Peach\n",
            "1                    Butterscotch\n",
            "2                  Chocolate Chip\n",
            "3                       Chocolate\n",
            "4                         Vanilla\n",
            "5                          Coffee\n",
            "6                         Caramel\n",
            "7                   Peanut Butter\n",
            "8                      Neopolitan\n",
            "9                          Cherry\n",
            "10    Chocolate Chip Cookie Dough\n",
            "11                  Birthday Cake\n",
            "12                      Raspberry\n",
            "13                    Cake Batter\n",
            "14                     Rocky Road\n",
            "15                      Pistachio\n",
            "17                     Strawberry\n",
            "18        Chocolate Peanut Butter\n",
            "19                   Butter Pecan\n",
            "20              Cookies And Cream\n",
            "21            Mint Chocolate Chip\n",
            "Name: Ice_Cream_Flavor, dtype: object\n"
          ]
        },
        {
          "output_type": "stream",
          "name": "stderr",
          "text": [
            "<ipython-input-24-0b61b6c5907c>:2: SettingWithCopyWarning: \n",
            "A value is trying to be set on a copy of a slice from a DataFrame.\n",
            "Try using .loc[row_indexer,col_indexer] = value instead\n",
            "\n",
            "See the caveats in the documentation: https://pandas.pydata.org/pandas-docs/stable/user_guide/indexing.html#returning-a-view-versus-a-copy\n",
            "  ice_cream_cleaned.loc[:, 'Ice_Cream_Flavor'] = ice_cream_cleaned['Ice_Cream_Flavor'].apply(lambda x: ' '.join(word.capitalize() for word in str(x).split()) if isinstance(x, str) else x)\n"
          ]
        }
      ],
      "source": [
        "# --- put your answer below ---\n",
        "ice_cream_cleaned.loc[:, 'Ice_Cream_Flavor'] = ice_cream_cleaned['Ice_Cream_Flavor'].apply(lambda x: ' '.join(word.capitalize() for word in str(x).split()) if isinstance(x, str) else x)\n",
        "print(ice_cream_cleaned['Ice_Cream_Flavor'])"
      ]
    },
    {
      "cell_type": "markdown",
      "metadata": {
        "id": "XwHMqqNinT0D"
      },
      "source": [
        "### Q2.3 (10%) Remove the % character from the values in \"Like_It_Percentage\" and \"Favorite_Percentage\". And, print the contents of the dataframe to show you were successful.###\n",
        "For example, the value 35% becomes just 35. We don't need the % character. We just want the integers. Consider searching Google for \"how to remove the last character from pandas column\"."
      ]
    },
    {
      "cell_type": "code",
      "execution_count": null,
      "metadata": {
        "colab": {
          "base_uri": "https://localhost:8080/"
        },
        "id": "Mb3VEQbKoGQx",
        "outputId": "e93895cf-e8ed-4476-e4f2-8c0706ee7742"
      },
      "outputs": [
        {
          "output_type": "stream",
          "name": "stdout",
          "text": [
            "                                Ice_Cream_Flavor Like_It_Percentage  \\\n",
            "0                                          Peach                22%   \n",
            "1                                   Butterscotch                16%   \n",
            "2                                 Chocolate Chip                39%   \n",
            "3                                      Chocolate                51%   \n",
            "4                                        Vanilla                59%   \n",
            "5                                         Coffee                23%   \n",
            "6                                        Caramel                33%   \n",
            "7                                  Peanut Butter                21%   \n",
            "8                                     Neopolitan                30%   \n",
            "9                                         Cherry                23%   \n",
            "10                   Chocolate Chip Cookie Dough                34%   \n",
            "11                                 Birthday Cake                20%   \n",
            "12                                     Raspberry                18%   \n",
            "13                                   Cake Batter                15%   \n",
            "14                                    Rocky Road                29%   \n",
            "15                                     Pistachio                23%   \n",
            "17                                    Strawberry                43%   \n",
            "18                       Chocolate Peanut Butter                26%   \n",
            "19                                  Butter Pecan                35%   \n",
            "20                             Cookies And Cream                43%   \n",
            "21                           Mint Chocolate Chip                33%   \n",
            "Like_It_Percentage                           NaN                NaN   \n",
            "Favorite_Percentage                          NaN                NaN   \n",
            "\n",
            "                    Favorite_Percentage  \n",
            "0                                    1%  \n",
            "1                                    1%  \n",
            "2                                    2%  \n",
            "3                                   10%  \n",
            "4                                   11%  \n",
            "5                                    5%  \n",
            "6                                    3%  \n",
            "7                                    2%  \n",
            "8                                    2%  \n",
            "9                                    2%  \n",
            "10                                   6%  \n",
            "11                                   2%  \n",
            "12                                   1%  \n",
            "13                                   1%  \n",
            "14                                   4%  \n",
            "15                                   4%  \n",
            "17                                   6%  \n",
            "18                                   5%  \n",
            "19                                   8%  \n",
            "20                                   7%  \n",
            "21                                   9%  \n",
            "Like_It_Percentage                  NaN  \n",
            "Favorite_Percentage                 NaN  \n"
          ]
        }
      ],
      "source": [
        "# --- put your answer below ---\n",
        "ice_cream_cleaned.loc['Like_It_Percentage'] = ice_cream_cleaned['Like_It_Percentage'].str.replace('%', '')\n",
        "ice_cream_cleaned.loc['Favorite_Percentage'] = ice_cream_cleaned['Favorite_Percentage'].str.replace('%', '')\n",
        "print(ice_cream_cleaned)"
      ]
    },
    {
      "cell_type": "markdown",
      "metadata": {
        "id": "N_NG3Gyhp0gu"
      },
      "source": [
        "### Q2.4 (10%) List the data so we know the most liked to least liked ice cream flavors. Sort the data based by the highest liked percentage to the lowest liked percentage. If there is a tie, secondarily sort by those who say the ice cream is their favorite. Print the sorted dataframe.###"
      ]
    },
    {
      "cell_type": "code",
      "execution_count": null,
      "metadata": {
        "colab": {
          "base_uri": "https://localhost:8080/"
        },
        "id": "1ZMOvLkzqZu5",
        "outputId": "66db74b2-6025-4938-cfac-5f8c69932f94"
      },
      "outputs": [
        {
          "output_type": "stream",
          "name": "stdout",
          "text": [
            "                                Ice_Cream_Flavor  Like_It_Percentage  \\\n",
            "4                                        Vanilla                59.0   \n",
            "3                                      Chocolate                51.0   \n",
            "20                             Cookies And Cream                43.0   \n",
            "17                                    Strawberry                43.0   \n",
            "2                                 Chocolate Chip                39.0   \n",
            "19                                  Butter Pecan                35.0   \n",
            "10                   Chocolate Chip Cookie Dough                34.0   \n",
            "21                           Mint Chocolate Chip                33.0   \n",
            "6                                        Caramel                33.0   \n",
            "8                                     Neopolitan                30.0   \n",
            "14                                    Rocky Road                29.0   \n",
            "18                       Chocolate Peanut Butter                26.0   \n",
            "5                                         Coffee                23.0   \n",
            "15                                     Pistachio                23.0   \n",
            "9                                         Cherry                23.0   \n",
            "0                                          Peach                22.0   \n",
            "7                                  Peanut Butter                21.0   \n",
            "11                                 Birthday Cake                20.0   \n",
            "12                                     Raspberry                18.0   \n",
            "1                                   Butterscotch                16.0   \n",
            "13                                   Cake Batter                15.0   \n",
            "Like_It_Percentage                           NaN                 NaN   \n",
            "Favorite_Percentage                          NaN                 NaN   \n",
            "\n",
            "                     Favorite_Percentage  \n",
            "4                                   11.0  \n",
            "3                                   10.0  \n",
            "20                                   7.0  \n",
            "17                                   6.0  \n",
            "2                                    2.0  \n",
            "19                                   8.0  \n",
            "10                                   6.0  \n",
            "21                                   9.0  \n",
            "6                                    3.0  \n",
            "8                                    2.0  \n",
            "14                                   4.0  \n",
            "18                                   5.0  \n",
            "5                                    5.0  \n",
            "15                                   4.0  \n",
            "9                                    2.0  \n",
            "0                                    1.0  \n",
            "7                                    2.0  \n",
            "11                                   2.0  \n",
            "12                                   1.0  \n",
            "1                                    1.0  \n",
            "13                                   1.0  \n",
            "Like_It_Percentage                   NaN  \n",
            "Favorite_Percentage                  NaN  \n"
          ]
        }
      ],
      "source": [
        "# --- put your answer below ---\n",
        "ice_cream_cleaned['Like_It_Percentage'] = ice_cream_cleaned['Like_It_Percentage'].str.replace('%', '').astype(float)\n",
        "ice_cream_cleaned['Favorite_Percentage'] = ice_cream_cleaned['Favorite_Percentage'].str.replace('%', '').astype(float)\n",
        "# Sort the data based by the highest liked percentage to the lowest liked percentage\n",
        "sorted_ice_cream = ice_cream_cleaned.sort_values(by=['Like_It_Percentage', 'Favorite_Percentage'], ascending=[False, False])\n",
        "print(sorted_ice_cream)\n"
      ]
    },
    {
      "cell_type": "markdown",
      "metadata": {
        "id": "-XFEilnCqmU3"
      },
      "source": [
        "### Q2.5 (10%) Filter out any ice cream flavors with a like it percentage less than 20%, keep those with a value of 20% and above. Store the new dataset in a dataframe called \"top_ice_creams\". Print the new dataframe.##"
      ]
    },
    {
      "cell_type": "code",
      "execution_count": null,
      "metadata": {
        "colab": {
          "base_uri": "https://localhost:8080/"
        },
        "id": "rC5H1mbZq4Rd",
        "outputId": "7e8367a4-1132-4573-bf47-ab039f6a07f1"
      },
      "outputs": [
        {
          "output_type": "stream",
          "name": "stdout",
          "text": [
            "               Ice_Cream_Flavor  Like_It_Percentage  Favorite_Percentage\n",
            "4                       Vanilla                59.0                 11.0\n",
            "3                     Chocolate                51.0                 10.0\n",
            "20            Cookies And Cream                43.0                  7.0\n",
            "17                   Strawberry                43.0                  6.0\n",
            "2                Chocolate Chip                39.0                  2.0\n",
            "19                 Butter Pecan                35.0                  8.0\n",
            "10  Chocolate Chip Cookie Dough                34.0                  6.0\n",
            "21          Mint Chocolate Chip                33.0                  9.0\n",
            "6                       Caramel                33.0                  3.0\n",
            "8                    Neopolitan                30.0                  2.0\n",
            "14                   Rocky Road                29.0                  4.0\n",
            "18      Chocolate Peanut Butter                26.0                  5.0\n",
            "5                        Coffee                23.0                  5.0\n",
            "15                    Pistachio                23.0                  4.0\n",
            "9                        Cherry                23.0                  2.0\n",
            "0                         Peach                22.0                  1.0\n",
            "7                 Peanut Butter                21.0                  2.0\n",
            "11                Birthday Cake                20.0                  2.0\n"
          ]
        }
      ],
      "source": [
        "# --- put your answer below ---\n",
        "top_ice_creams = sorted_ice_cream[sorted_ice_cream['Like_It_Percentage'] >= 20]\n",
        "print(top_ice_creams)\n"
      ]
    },
    {
      "cell_type": "markdown",
      "metadata": {
        "id": "BgS7mdxr2-Ps"
      },
      "source": [
        "# Question Three (20%) #\n",
        "###Create a simple bar graph of the top 20 ice cream flavors. Put the ice cream flavors on the x-axis and the like it percentage on the y-axis. Show the bar graph.###\n",
        "Consider searching Google with \"pandas bar chart\" or \"pandas plot\".\n"
      ]
    },
    {
      "cell_type": "code",
      "execution_count": null,
      "metadata": {
        "colab": {
          "base_uri": "https://localhost:8080/",
          "height": 607
        },
        "id": "vU68YvCLslmT",
        "outputId": "a202d459-a843-491e-905a-73d83417b2a1"
      },
      "outputs": [
        {
          "output_type": "display_data",
          "data": {
            "text/plain": [
              "<Figure size 1200x600 with 1 Axes>"
            ],
            "image/png": "[encoded data removed]"
          },
          "metadata": {}
        }
      ],
      "source": [
        "# -- put your answer below ---\n",
        "import matplotlib.pyplot as plt\n",
        "# Select top 20 Ice_Cream_Flavor  and their Like_It_Percentage\n",
        "top_20_flavors = top_ice_creams.head(20)\n",
        "\n",
        "#Creating bar graph\n",
        "plt.figure(figsize=(12, 6))\n",
        "plt.bar(top_20_flavors['Ice_Cream_Flavor'], top_20_flavors['Like_It_Percentage'], color='skyblue')\n",
        "plt.xlabel('Ice Cream Flavors')\n",
        "plt.ylabel('Like It Percentage')\n",
        "plt.title('Top 20 Ice Cream Flavors by Their Like It Percentage')\n",
        "plt.xticks(rotation=90)\n",
        "plt.tight_layout()\n",
        "\n",
        "# Show the graph\n",
        "plt.show()\n"
      ]
    },
    {
      "cell_type": "markdown",
      "metadata": {
        "id": "LVH4czhasppO"
      },
      "source": [
        "### The End. Congrats on importing and cleaning data, with a simple data visualization at the end. ###\n",
        "If you need help, reach out to the CIS tutors or the professor."
      ]
    }
  ],
  "metadata": {
    "colab": {
      "provenance": []
    },
    "kernelspec": {
      "display_name": "Python 3",
      "name": "python3"
    }
  },
  "nbformat": 4,
  "nbformat_minor": 0
}